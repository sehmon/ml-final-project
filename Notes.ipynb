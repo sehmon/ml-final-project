{
 "cells": [
  {
   "cell_type": "code",
   "execution_count": null,
   "metadata": {
    "collapsed": true
   },
   "outputs": [],
   "source": [
    "cols = [\n",
    "    'artist.hotttnesss',\n",
    "    #'artist.id',\n",
    "    #'artist.name',\n",
    "    #'artist_mbtags',\n",
    "    #'artist_mbtags_count',\n",
    "    #'bars_confidence',\n",
    "    'bars_start',\n",
    "    #'beats_confidence',\n",
    "    'beats_start',\n",
    "    'duration',\n",
    "    #'end_of_fade_in',\n",
    "    'familiarity',\n",
    "    'key',\n",
    "    #'key_confidence',\n",
    "    #'latitude',\n",
    "    #'location',\n",
    "    #'longitude',\n",
    "    'loudness',\n",
    "    'mode',\n",
    "    #'mode_confidence',\n",
    "    #'release.id',\n",
    "    #'release.name',\n",
    "    #'similar',\n",
    "    'song.hotttnesss',\n",
    "    #'song.id',\n",
    "    #'start_of_fade_out',\n",
    "    #'tatums_confidence',\n",
    "    'tatums_start',\n",
    "    'tempo',\n",
    "    #'terms',\n",
    "    #'terms_freq',\n",
    "    'time_signature',\n",
    "    #'time_signature_confidence',\n",
    "    #'title',\n",
    "    'year'\n",
    "]\n",
    "music_data_dropped = music_data[cols]\n",
    "music_data_dropped = music_data_dropped.fillna(0)\n"
   ]
  }
 ],
 "metadata": {
  "kernelspec": {
   "display_name": "Python 2",
   "language": "python",
   "name": "python2"
  },
  "language_info": {
   "codemirror_mode": {
    "name": "ipython",
    "version": 2
   },
   "file_extension": ".py",
   "mimetype": "text/x-python",
   "name": "python",
   "nbconvert_exporter": "python",
   "pygments_lexer": "ipython2",
   "version": "2.7.14"
  }
 },
 "nbformat": 4,
 "nbformat_minor": 2
}
